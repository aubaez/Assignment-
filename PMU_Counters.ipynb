{
 "cells": [
  {
   "cell_type": "code",
   "execution_count": 35,
   "id": "5c4a7d74",
   "metadata": {},
   "outputs": [],
   "source": [
    "import ctypes\n",
    "import time"
   ]
  },
  {
   "cell_type": "markdown",
   "id": "a75e8c48",
   "metadata": {},
   "source": [
    "### Part A3.1:  Access PMU from python"
   ]
  },
  {
   "cell_type": "code",
   "execution_count": 36,
   "id": "10df9d60",
   "metadata": {},
   "outputs": [],
   "source": [
    "_libInC = ctypes.CDLL('./libMyCyLib.so')"
   ]
  },
  {
   "cell_type": "code",
   "execution_count": 37,
   "id": "9617b570",
   "metadata": {},
   "outputs": [
    {
     "data": {
      "text/plain": [
       "1"
      ]
     },
     "execution_count": 37,
     "metadata": {},
     "output_type": "execute_result"
    }
   ],
   "source": [
    "_libInC.initialize_counters(1,0)"
   ]
  },
  {
   "cell_type": "code",
   "execution_count": 38,
   "id": "4a24bd7e",
   "metadata": {},
   "outputs": [
    {
     "data": {
      "text/plain": [
       "585761095"
      ]
     },
     "execution_count": 38,
     "metadata": {},
     "output_type": "execute_result"
    }
   ],
   "source": [
    "_libInC.get_cycle_count()"
   ]
  },
  {
   "cell_type": "markdown",
   "id": "a7017a84",
   "metadata": {},
   "source": [
    "### Part A3.2: Comparing and Gathering Data\n",
    "\n",
    "In this section, we are going to use psutil to monitor CPU usage in percent, and the time module and\n",
    "PMU counting to evaluate the recursive fibonacci sequence timing operations."
   ]
  },
  {
   "cell_type": "code",
   "execution_count": 39,
   "id": "159cc000",
   "metadata": {},
   "outputs": [
    {
     "name": "stdout",
     "output_type": "stream",
     "text": [
      "How many terms? 5\n",
      "time spent: 0.0016863346099853516\n"
     ]
    }
   ],
   "source": [
    "# Program to calculate the Fibonacci sequence up to n-th term\n",
    "nterms = int(input(\"How many terms? \"))\n",
    "\n",
    "#define shared libary\n",
    "_libInC = ctypes.CDLL('./libMyCyLib.so')\n",
    "\n",
    "#Initialize the cyclecounter\n",
    "_libInC.initialize_counters(1,0)\n",
    "\n",
    "#Get the 'before' time using python time module\n",
    "before_time = time.time()\n",
    "\n",
    "#Get the 'before' cycle count\n",
    "before_cycle_count = _libInC.get_cycle_count()\n",
    "\n",
    "#Run the recu_fibo function on CPU 1\n",
    "def recur_fibo(n):\n",
    "    if n <= 1:\n",
    "       return n\n",
    "    else:\n",
    "       return(recur_fibo(n-1) + recur_fibo(n-2))\n",
    "\n",
    "#Get the 'after' cycle count\n",
    "after_cycle_count = _libInC.get_cycle_count()\n",
    "\n",
    "#Get the 'after' time count cycle uisng the python time module\n",
    "time_after = time.time()\n",
    "\n",
    "#Get the cycle count \n",
    "cycle_count = after_cycle_count - before_cycle_count\n",
    "\n",
    "#Get the amount of time used\n",
    "time_used = time_after - before_time\n",
    "\n",
    "# check if the number of terms is valid\n",
    "if nterms <= 0:\n",
    "   print(\"Please enter a positive integer\")\n",
    "else:\n",
    "   recur_fibo(nterms)\n",
    "        \n",
    "tac = time.time()\n",
    "print('time spent: {}'.format(time_used))"
   ]
  },
  {
   "cell_type": "markdown",
   "id": "cf16f550",
   "metadata": {},
   "source": [
    "### Calculate Error Standard Deviation"
   ]
  },
  {
   "cell_type": "code",
   "execution_count": 40,
   "id": "cee4ae72",
   "metadata": {},
   "outputs": [
    {
     "name": "stdout",
     "output_type": "stream",
     "text": [
      "0.002091411006952005\n"
     ]
    }
   ],
   "source": [
    "# Calculated average for n-term 5, 10, 15, 20 and 30 three times.  \n",
    "import math\n",
    "#calculation the standard deviation\n",
    "err_n = float( .0081/math.sqrt(15))\n",
    "print(err_n)"
   ]
  },
  {
   "cell_type": "markdown",
   "id": "a6811368",
   "metadata": {},
   "source": [
    "### Plot Average Results of Varying N"
   ]
  },
  {
   "cell_type": "code",
   "execution_count": 41,
   "id": "9bf1654b",
   "metadata": {},
   "outputs": [],
   "source": [
    "import time\n",
    "import pylab as pl\n",
    "from IPython import display\n",
    "import psutil\n",
    "import matplotlib.pyplot as plt\n",
    "import numpy as np"
   ]
  },
  {
   "cell_type": "code",
   "execution_count": 44,
   "id": "9f405ed9",
   "metadata": {},
   "outputs": [],
   "source": [
    "#Define recursive fibonnaci function\n",
    "def recur_fibo(n):\n",
    "    if n <= 1:\n",
    "       return n\n",
    "    else:\n",
    "       return(recur_fibo(n-1) + recur_fibo(n-2))"
   ]
  },
  {
   "cell_type": "code",
   "execution_count": 45,
   "id": "76b1ecc9",
   "metadata": {},
   "outputs": [],
   "source": [
    "#Holds amount of time used for values 1-30\n",
    "nTime = []\n",
    "\n",
    "#Holds cyclecount for values 1-30\n",
    "nCount = []\n",
    "\n",
    "#run Fibonnaci on values 1-30\n",
    "for i in range(1,30,1):\n",
    "    #Get the 'before' time using python time module\n",
    "    before_time = time.time()\n",
    "    \n",
    "    #Initialize the cyclecounter\n",
    "    _libInC.initialize_counters(1,0)\n",
    "\n",
    "    #Get the 'before' cycle count\n",
    "    before_cycle_count = _libInC.get_cycle_count()\n",
    "    \n",
    "    #Call fibonacci function\n",
    "    fib_val = recur_fibo(i)\n",
    "    \n",
    "    \n",
    "    #Get the 'after' cycle count\n",
    "    after_cycle_count = _libInC.get_cycle_count()\n",
    "\n",
    "    #Get the 'after' time count cycle uisng the python time module\n",
    "    time_after = time.time()\n",
    "\n",
    "    #Get the cycle count \n",
    "    cycle_count = after_cycle_count - before_cycle_count\n",
    "    #append cycle count for current n-term\n",
    "    nCount.append(cycle_count)\n",
    "\n",
    "    #Get the amount of time used\n",
    "    time_used = time_after - before_time\n",
    "    \n",
    "    #append time_used for current n-term\n",
    "    nTime.append(time_used)\n",
    "    "
   ]
  },
  {
   "cell_type": "code",
   "execution_count": 33,
   "id": "67d1732f",
   "metadata": {},
   "outputs": [
    {
     "data": {
      "image/png": "[encoded data removed]",
      "text/plain": [
       "<Figure size 432x288 with 1 Axes>"
      ]
     },
     "metadata": {
      "needs_background": "light"
     },
     "output_type": "display_data"
    }
   ],
   "source": [
    "import matplotlib.pyplot as plt\n",
    "\n",
    "x_axis = [x for x in range(len(nCount))]\n",
    "plt.plot(x_axis,nTime)\n",
    "plt.errorbar(x_axis, nTime,\n",
    "             yerr = err_n,\n",
    "             fmt ='o')\n",
    "plt.xticks(np.arange(1, 30, step=1))\n",
    "plt.ylabel('Cyclecount')\n",
    "plt.xlabel('n-terms calculated')\n",
    "plt.show()"
   ]
  },
  {
   "cell_type": "code",
   "execution_count": 34,
   "id": "d0d315e3",
   "metadata": {},
   "outputs": [
    {
     "data": {
      "image/png": "[encoded data removed]",
      "text/plain": [
       "<Figure size 432x288 with 1 Axes>"
      ]
     },
     "metadata": {
      "needs_background": "light"
     },
     "output_type": "display_data"
    }
   ],
   "source": [
    "import matplotlib.pyplot as plt\n",
    "\n",
    "x_axis = [x for x in range(len(nTime))]\n",
    "plt.plot(x_axis,nTime)\n",
    "plt.errorbar(x_axis, nTime,\n",
    "             yerr = err_n,\n",
    "             fmt ='o')\n",
    "plt.xticks(np.arange(1, 30, step=1))\n",
    "plt.ylabel('Time Taken to Complete')\n",
    "plt.xlabel('n-terms calculated')\n",
    "plt.show()"
   ]
  },
  {
   "cell_type": "markdown",
   "id": "d56be55e",
   "metadata": {},
   "source": [
    "## Conclusion\n",
    "For this Assignment, the implementation was straight forward. I followed the assignment specs and intialized timers and counters before running the fibonacci series and then captured the values after the fibonacci calculation was over. This way, I was able to subtract the values and calulate how long it took to run the calculation and what the total counters was.  Afterwards, I reused that code to run the same calculation on n-terms.  Specifically, I used a loop to run through values 1-30 and calculate the fibonacci series. I used 2 arrays/lists to store the cyclecount and time used for each value in range 1-30.  Then I used these arrays/lists to plot the graphs.  For the standard deviation, I ran the fibonnaci series on values 5, 10, 15, 20, 25, 30 and manually averaged for the runs each. Then in the jupyter notebook I calculated the standard deviation.\n",
    "\n",
    "An issue I came across for this assignment had to do with the set up in parts A3.0 and A3.1.  For some reason I couldn't call the Make function without getting an error.  I eventually got this to work by trial and error and not changing anything in the code.  Afterwards, I got stuck creating the shared library.  I was able to run the gcc commands, but when calling the functions with ctype, I was getting an issue with the \"symbol\" not defined in my shared library.  Eventually I asked for help and found out I needed to make a small modification to the Make file and got my code to run. "
   ]
  },
  {
   "cell_type": "code",
   "execution_count": null,
   "id": "051cdc16",
   "metadata": {},
   "outputs": [],
   "source": []
  }
 ],
 "metadata": {
  "kernelspec": {
   "display_name": "Python 3",
   "language": "python",
   "name": "python3"
  },
  "language_info": {
   "codemirror_mode": {
    "name": "ipython",
    "version": 3
   },
   "file_extension": ".py",
   "mimetype": "text/x-python",
   "name": "python",
   "nbconvert_exporter": "python",
   "pygments_lexer": "ipython3",
   "version": "3.8.2"
  }
 },
 "nbformat": 4,
 "nbformat_minor": 5
}
